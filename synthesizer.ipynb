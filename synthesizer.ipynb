{
 "cells": [
  {
   "cell_type": "code",
   "execution_count": 1,
   "id": "initial_id",
   "metadata": {
    "collapsed": true,
    "ExecuteTime": {
     "end_time": "2023-12-16T16:32:40.482811800Z",
     "start_time": "2023-12-16T16:32:34.854510700Z"
    }
   },
   "outputs": [
    {
     "name": "stdout",
     "output_type": "stream",
     "text": [
      "1.8.0\n"
     ]
    }
   ],
   "source": [
    "import sdv\n",
    "import json\n",
    "import pandas as pd\n",
    "print(sdv.__version__)"
   ]
  },
  {
   "cell_type": "code",
   "execution_count": 19,
   "outputs": [],
   "source": [
    "# with open('dataset/adult1.json') as f:\n",
    "#     metadata = json.load(f)"
   ],
   "metadata": {
    "collapsed": false,
    "ExecuteTime": {
     "end_time": "2023-12-15T19:07:50.629488181Z",
     "start_time": "2023-12-15T19:07:50.571974030Z"
    }
   },
   "id": "9e508a1c66ae85d5"
  },
  {
   "cell_type": "code",
   "execution_count": 2,
   "outputs": [],
   "source": [
    "real_data = pd.read_csv('dataset/adult.csv')"
   ],
   "metadata": {
    "collapsed": false,
    "ExecuteTime": {
     "end_time": "2023-12-16T16:32:42.092190300Z",
     "start_time": "2023-12-16T16:32:42.004900500Z"
    }
   },
   "id": "42726c22578a1e27"
  },
  {
   "cell_type": "code",
   "execution_count": 31,
   "outputs": [],
   "source": [
    "# from sdv.datasets.demo import download_demo\n",
    "# \n",
    "# real_data, metadata = download_demo(\n",
    "#     modality='single_table',\n",
    "#     dataset_name='fake_hotel_guests'\n",
    "# )"
   ],
   "metadata": {
    "collapsed": false,
    "ExecuteTime": {
     "end_time": "2023-12-15T19:15:41.760171891Z",
     "start_time": "2023-12-15T19:15:41.753422894Z"
    }
   },
   "id": "8f5b277eb560da6f"
  },
  {
   "cell_type": "code",
   "execution_count": 3,
   "outputs": [],
   "source": [
    "from sdv.metadata import SingleTableMetadata\n",
    "from sdv.single_table import CTGANSynthesizer"
   ],
   "metadata": {
    "collapsed": false,
    "ExecuteTime": {
     "end_time": "2023-12-16T16:32:47.211946400Z",
     "start_time": "2023-12-16T16:32:47.191999800Z"
    }
   },
   "id": "7302ecd82b8ebab5"
  },
  {
   "cell_type": "code",
   "execution_count": 4,
   "outputs": [],
   "source": [
    "# Create a blank SingleTableMetadata\n",
    "metadata = SingleTableMetadata()\n",
    "# Import metadata and use detect_from_dataframe\n",
    "metadata.detect_from_dataframe(real_data)"
   ],
   "metadata": {
    "collapsed": false,
    "ExecuteTime": {
     "end_time": "2023-12-16T16:32:47.713261600Z",
     "start_time": "2023-12-16T16:32:47.645920Z"
    }
   },
   "id": "bdcafecc045d84fc"
  },
  {
   "cell_type": "code",
   "execution_count": 35,
   "outputs": [],
   "source": [
    "synthesizer = CTGANSynthesizer(metadata)"
   ],
   "metadata": {
    "collapsed": false,
    "ExecuteTime": {
     "end_time": "2023-12-15T19:16:02.011544702Z",
     "start_time": "2023-12-15T19:16:02.009089343Z"
    }
   },
   "id": "397abddaf7a50eff"
  },
  {
   "cell_type": "code",
   "execution_count": 36,
   "outputs": [
    {
     "name": "stderr",
     "output_type": "stream",
     "text": [
      "/home/mfallahi/miniconda3/envs/sdv-test/lib/python3.8/site-packages/torch/cuda/__init__.py:138: UserWarning: CUDA initialization: The NVIDIA driver on your system is too old (found version 11070). Please update your GPU driver by downloading and installing a new version from the URL: http://www.nvidia.com/Download/index.aspx Alternatively, go to: https://pytorch.org to install a PyTorch version that has been compiled with your version of the CUDA driver. (Triggered internally at ../c10/cuda/CUDAFunctions.cpp:108.)\n",
      "  return torch._C._cuda_getDeviceCount() > 0\n"
     ]
    }
   ],
   "source": [
    "synthesizer.fit(real_data)\n"
   ],
   "metadata": {
    "collapsed": false,
    "ExecuteTime": {
     "end_time": "2023-12-15T19:28:41.500607104Z",
     "start_time": "2023-12-15T19:16:17.176038316Z"
    }
   },
   "id": "35de2699094e450"
  },
  {
   "cell_type": "code",
   "execution_count": 67,
   "outputs": [],
   "source": [
    "synthetic_data = synthesizer.sample(num_rows=500)"
   ],
   "metadata": {
    "collapsed": false,
    "ExecuteTime": {
     "end_time": "2023-12-16T02:48:32.729713038Z",
     "start_time": "2023-12-16T02:48:32.609216614Z"
    }
   },
   "id": "d9f9309f182f4745"
  },
  {
   "cell_type": "code",
   "execution_count": 65,
   "outputs": [
    {
     "data": {
      "text/plain": "   age          workclass  fnlwgt   education  education-num  \\\n0   56            Private  201336         9th              5   \n1   17                  ?  171183     HS-grad              9   \n2   53            Private  235016     HS-grad              9   \n3   44   Self-emp-not-inc   36598   Bachelors             13   \n4   27            Private  175379   Bachelors             13   \n\n        marital-status         occupation    relationship  \\\n0             Divorced   Transport-moving   Not-in-family   \n1        Never-married                  ?       Own-child   \n2   Married-civ-spouse       Craft-repair         Husband   \n3   Married-civ-spouse     Prof-specialty         Husband   \n4   Married-civ-spouse    Exec-managerial            Wife   \n\n                  race      sex  capital-gain  capital-loss  hours-per-week  \\\n0                White     Male             0             0              36   \n1                White   Female             1             0              40   \n2   Asian-Pac-Islander     Male            25             0              40   \n3                White     Male            13             0              36   \n4                White   Female             0             0              40   \n\n   native-country  income  \n0         England   <=50K  \n1   United-States   <=50K  \n2         Vietnam    >50K  \n3   United-States    >50K  \n4   United-States   <=50K  ",
      "text/html": "<div>\n<style scoped>\n    .dataframe tbody tr th:only-of-type {\n        vertical-align: middle;\n    }\n\n    .dataframe tbody tr th {\n        vertical-align: top;\n    }\n\n    .dataframe thead th {\n        text-align: right;\n    }\n</style>\n<table border=\"1\" class=\"dataframe\">\n  <thead>\n    <tr style=\"text-align: right;\">\n      <th></th>\n      <th>age</th>\n      <th>workclass</th>\n      <th>fnlwgt</th>\n      <th>education</th>\n      <th>education-num</th>\n      <th>marital-status</th>\n      <th>occupation</th>\n      <th>relationship</th>\n      <th>race</th>\n      <th>sex</th>\n      <th>capital-gain</th>\n      <th>capital-loss</th>\n      <th>hours-per-week</th>\n      <th>native-country</th>\n      <th>income</th>\n    </tr>\n  </thead>\n  <tbody>\n    <tr>\n      <th>0</th>\n      <td>56</td>\n      <td>Private</td>\n      <td>201336</td>\n      <td>9th</td>\n      <td>5</td>\n      <td>Divorced</td>\n      <td>Transport-moving</td>\n      <td>Not-in-family</td>\n      <td>White</td>\n      <td>Male</td>\n      <td>0</td>\n      <td>0</td>\n      <td>36</td>\n      <td>England</td>\n      <td>&lt;=50K</td>\n    </tr>\n    <tr>\n      <th>1</th>\n      <td>17</td>\n      <td>?</td>\n      <td>171183</td>\n      <td>HS-grad</td>\n      <td>9</td>\n      <td>Never-married</td>\n      <td>?</td>\n      <td>Own-child</td>\n      <td>White</td>\n      <td>Female</td>\n      <td>1</td>\n      <td>0</td>\n      <td>40</td>\n      <td>United-States</td>\n      <td>&lt;=50K</td>\n    </tr>\n    <tr>\n      <th>2</th>\n      <td>53</td>\n      <td>Private</td>\n      <td>235016</td>\n      <td>HS-grad</td>\n      <td>9</td>\n      <td>Married-civ-spouse</td>\n      <td>Craft-repair</td>\n      <td>Husband</td>\n      <td>Asian-Pac-Islander</td>\n      <td>Male</td>\n      <td>25</td>\n      <td>0</td>\n      <td>40</td>\n      <td>Vietnam</td>\n      <td>&gt;50K</td>\n    </tr>\n    <tr>\n      <th>3</th>\n      <td>44</td>\n      <td>Self-emp-not-inc</td>\n      <td>36598</td>\n      <td>Bachelors</td>\n      <td>13</td>\n      <td>Married-civ-spouse</td>\n      <td>Prof-specialty</td>\n      <td>Husband</td>\n      <td>White</td>\n      <td>Male</td>\n      <td>13</td>\n      <td>0</td>\n      <td>36</td>\n      <td>United-States</td>\n      <td>&gt;50K</td>\n    </tr>\n    <tr>\n      <th>4</th>\n      <td>27</td>\n      <td>Private</td>\n      <td>175379</td>\n      <td>Bachelors</td>\n      <td>13</td>\n      <td>Married-civ-spouse</td>\n      <td>Exec-managerial</td>\n      <td>Wife</td>\n      <td>White</td>\n      <td>Female</td>\n      <td>0</td>\n      <td>0</td>\n      <td>40</td>\n      <td>United-States</td>\n      <td>&lt;=50K</td>\n    </tr>\n  </tbody>\n</table>\n</div>"
     },
     "execution_count": 65,
     "metadata": {},
     "output_type": "execute_result"
    }
   ],
   "source": [
    "synthetic_data.head()"
   ],
   "metadata": {
    "collapsed": false,
    "ExecuteTime": {
     "end_time": "2023-12-16T02:48:02.962393572Z",
     "start_time": "2023-12-16T02:48:02.920985090Z"
    }
   },
   "id": "21a99ea88efa885e"
  },
  {
   "cell_type": "code",
   "execution_count": 68,
   "outputs": [],
   "source": [
    "synthetic_data.to_csv(\"dataset/ctgan_500.csv\", index=False)"
   ],
   "metadata": {
    "collapsed": false,
    "ExecuteTime": {
     "end_time": "2023-12-16T02:48:37.965706538Z",
     "start_time": "2023-12-16T02:48:37.916917965Z"
    }
   },
   "id": "7b64cd6d40e04872"
  },
  {
   "cell_type": "code",
   "execution_count": 43,
   "outputs": [],
   "source": [
    "from sdv.single_table import GaussianCopulaSynthesizer\n"
   ],
   "metadata": {
    "collapsed": false,
    "ExecuteTime": {
     "end_time": "2023-12-15T19:39:05.863536279Z",
     "start_time": "2023-12-15T19:39:05.812082320Z"
    }
   },
   "id": "dc457d5bea86dd73"
  },
  {
   "cell_type": "code",
   "execution_count": 44,
   "outputs": [],
   "source": [
    "\n",
    "synthesizer_copula = GaussianCopulaSynthesizer(metadata)\n"
   ],
   "metadata": {
    "collapsed": false,
    "ExecuteTime": {
     "end_time": "2023-12-15T19:39:10.000487996Z",
     "start_time": "2023-12-15T19:39:09.956164253Z"
    }
   },
   "id": "44bd69112a56e85c"
  },
  {
   "cell_type": "code",
   "execution_count": 45,
   "outputs": [],
   "source": [
    "synthesizer_copula.fit(real_data)"
   ],
   "metadata": {
    "collapsed": false,
    "ExecuteTime": {
     "end_time": "2023-12-15T19:39:19.236424986Z",
     "start_time": "2023-12-15T19:39:11.465478032Z"
    }
   },
   "id": "b0969dcbca082f69"
  },
  {
   "cell_type": "code",
   "execution_count": 69,
   "outputs": [],
   "source": [
    "synthetic_data_copula = synthesizer_copula.sample(num_rows=500)"
   ],
   "metadata": {
    "collapsed": false,
    "ExecuteTime": {
     "end_time": "2023-12-16T02:48:50.651607613Z",
     "start_time": "2023-12-16T02:48:50.554347085Z"
    }
   },
   "id": "278748704278b589"
  },
  {
   "cell_type": "code",
   "execution_count": 47,
   "outputs": [
    {
     "data": {
      "text/plain": "   age workclass  fnlwgt     education  education-num       marital-status  \\\n0   47   Private  164076       HS-grad             10             Divorced   \n1   38   Private  361564       Masters             10        Never-married   \n2   32   Private  101155   Prof-school             11   Married-civ-spouse   \n3   23   Private  141706       HS-grad             14   Married-civ-spouse   \n4   36   Private   99347          10th              7            Separated   \n\n           occupation    relationship    race      sex  capital-gain  \\\n0               Sales         Husband   White   Female         98874   \n1      Prof-specialty   Not-in-family   White   Female         57457   \n2       Other-service       Unmarried   White     Male          5013   \n3               Sales       Own-child   White     Male         41684   \n4   Machine-op-inspct   Not-in-family   White     Male             3   \n\n   capital-loss  hours-per-week  native-country  income  \n0             4              46   United-States   <=50K  \n1             0              37   United-States   <=50K  \n2             0              20   United-States   <=50K  \n3             2              47   United-States   <=50K  \n4            32              52   United-States   <=50K  ",
      "text/html": "<div>\n<style scoped>\n    .dataframe tbody tr th:only-of-type {\n        vertical-align: middle;\n    }\n\n    .dataframe tbody tr th {\n        vertical-align: top;\n    }\n\n    .dataframe thead th {\n        text-align: right;\n    }\n</style>\n<table border=\"1\" class=\"dataframe\">\n  <thead>\n    <tr style=\"text-align: right;\">\n      <th></th>\n      <th>age</th>\n      <th>workclass</th>\n      <th>fnlwgt</th>\n      <th>education</th>\n      <th>education-num</th>\n      <th>marital-status</th>\n      <th>occupation</th>\n      <th>relationship</th>\n      <th>race</th>\n      <th>sex</th>\n      <th>capital-gain</th>\n      <th>capital-loss</th>\n      <th>hours-per-week</th>\n      <th>native-country</th>\n      <th>income</th>\n    </tr>\n  </thead>\n  <tbody>\n    <tr>\n      <th>0</th>\n      <td>47</td>\n      <td>Private</td>\n      <td>164076</td>\n      <td>HS-grad</td>\n      <td>10</td>\n      <td>Divorced</td>\n      <td>Sales</td>\n      <td>Husband</td>\n      <td>White</td>\n      <td>Female</td>\n      <td>98874</td>\n      <td>4</td>\n      <td>46</td>\n      <td>United-States</td>\n      <td>&lt;=50K</td>\n    </tr>\n    <tr>\n      <th>1</th>\n      <td>38</td>\n      <td>Private</td>\n      <td>361564</td>\n      <td>Masters</td>\n      <td>10</td>\n      <td>Never-married</td>\n      <td>Prof-specialty</td>\n      <td>Not-in-family</td>\n      <td>White</td>\n      <td>Female</td>\n      <td>57457</td>\n      <td>0</td>\n      <td>37</td>\n      <td>United-States</td>\n      <td>&lt;=50K</td>\n    </tr>\n    <tr>\n      <th>2</th>\n      <td>32</td>\n      <td>Private</td>\n      <td>101155</td>\n      <td>Prof-school</td>\n      <td>11</td>\n      <td>Married-civ-spouse</td>\n      <td>Other-service</td>\n      <td>Unmarried</td>\n      <td>White</td>\n      <td>Male</td>\n      <td>5013</td>\n      <td>0</td>\n      <td>20</td>\n      <td>United-States</td>\n      <td>&lt;=50K</td>\n    </tr>\n    <tr>\n      <th>3</th>\n      <td>23</td>\n      <td>Private</td>\n      <td>141706</td>\n      <td>HS-grad</td>\n      <td>14</td>\n      <td>Married-civ-spouse</td>\n      <td>Sales</td>\n      <td>Own-child</td>\n      <td>White</td>\n      <td>Male</td>\n      <td>41684</td>\n      <td>2</td>\n      <td>47</td>\n      <td>United-States</td>\n      <td>&lt;=50K</td>\n    </tr>\n    <tr>\n      <th>4</th>\n      <td>36</td>\n      <td>Private</td>\n      <td>99347</td>\n      <td>10th</td>\n      <td>7</td>\n      <td>Separated</td>\n      <td>Machine-op-inspct</td>\n      <td>Not-in-family</td>\n      <td>White</td>\n      <td>Male</td>\n      <td>3</td>\n      <td>32</td>\n      <td>52</td>\n      <td>United-States</td>\n      <td>&lt;=50K</td>\n    </tr>\n  </tbody>\n</table>\n</div>"
     },
     "execution_count": 47,
     "metadata": {},
     "output_type": "execute_result"
    }
   ],
   "source": [
    "synthetic_data_copula.head()"
   ],
   "metadata": {
    "collapsed": false,
    "ExecuteTime": {
     "end_time": "2023-12-15T19:40:51.439967415Z",
     "start_time": "2023-12-15T19:40:51.426359270Z"
    }
   },
   "id": "8a8eb24329169860"
  },
  {
   "cell_type": "code",
   "execution_count": 71,
   "outputs": [],
   "source": [
    "synthetic_data_copula.to_csv(\"dataset/copula_500.csv\", index=False)"
   ],
   "metadata": {
    "collapsed": false,
    "ExecuteTime": {
     "end_time": "2023-12-16T02:49:12.345609020Z",
     "start_time": "2023-12-16T02:49:12.270092420Z"
    }
   },
   "id": "41ffb908fb5e13f"
  },
  {
   "cell_type": "code",
   "execution_count": 5,
   "outputs": [],
   "source": [
    "from sdv.single_table import TVAESynthesizer"
   ],
   "metadata": {
    "collapsed": false,
    "ExecuteTime": {
     "end_time": "2023-12-16T16:33:54.619429300Z",
     "start_time": "2023-12-16T16:33:54.594491900Z"
    }
   },
   "id": "52fc10b102f57fd3"
  },
  {
   "cell_type": "code",
   "execution_count": 6,
   "outputs": [],
   "source": [
    "synthesizer_vae = TVAESynthesizer(metadata)"
   ],
   "metadata": {
    "collapsed": false,
    "ExecuteTime": {
     "end_time": "2023-12-16T16:34:03.671571700Z",
     "start_time": "2023-12-16T16:34:03.649621600Z"
    }
   },
   "id": "3fbd873fb2dbaaff"
  },
  {
   "cell_type": "code",
   "execution_count": 7,
   "outputs": [],
   "source": [
    "synthesizer_vae.fit(real_data)"
   ],
   "metadata": {
    "collapsed": false,
    "ExecuteTime": {
     "end_time": "2023-12-16T16:42:35.726557500Z",
     "start_time": "2023-12-16T16:34:05.091308100Z"
    }
   },
   "id": "dfd755225931d4d9"
  },
  {
   "cell_type": "code",
   "execution_count": 10,
   "outputs": [],
   "source": [
    "synthetic_data_vae = synthesizer_vae.sample(num_rows=20)"
   ],
   "metadata": {
    "collapsed": false,
    "ExecuteTime": {
     "end_time": "2023-12-16T16:51:08.562567200Z",
     "start_time": "2023-12-16T16:51:08.468702Z"
    }
   },
   "id": "44bc0654e48978c8"
  },
  {
   "cell_type": "code",
   "execution_count": 11,
   "outputs": [],
   "source": [
    "synthetic_data_vae.to_csv(\"dataset/vae_20.csv\", index=False)"
   ],
   "metadata": {
    "collapsed": false,
    "ExecuteTime": {
     "end_time": "2023-12-16T16:51:12.056152700Z",
     "start_time": "2023-12-16T16:51:12.033668500Z"
    }
   },
   "id": "8a90f781e93ca997"
  },
  {
   "cell_type": "code",
   "execution_count": 57,
   "outputs": [],
   "source": [],
   "metadata": {
    "collapsed": false,
    "ExecuteTime": {
     "end_time": "2023-12-15T19:51:06.117336277Z",
     "start_time": "2023-12-15T19:51:06.096572450Z"
    }
   },
   "id": "29c4e12ec2dd7e92"
  },
  {
   "cell_type": "code",
   "execution_count": 58,
   "outputs": [],
   "source": [
    "from sdv.single_table import CopulaGANSynthesizer"
   ],
   "metadata": {
    "collapsed": false,
    "ExecuteTime": {
     "end_time": "2023-12-15T19:51:06.118357031Z",
     "start_time": "2023-12-15T19:51:06.096889082Z"
    }
   },
   "id": "2a20faca509788bc"
  },
  {
   "cell_type": "code",
   "execution_count": 59,
   "outputs": [],
   "source": [
    "synthesizer_copulaGAN = CopulaGANSynthesizer(metadata)"
   ],
   "metadata": {
    "collapsed": false,
    "ExecuteTime": {
     "end_time": "2023-12-15T19:51:06.119372654Z",
     "start_time": "2023-12-15T19:51:06.097115338Z"
    }
   },
   "id": "323b3da5f981c14f"
  },
  {
   "cell_type": "code",
   "execution_count": 60,
   "outputs": [],
   "source": [
    "synthesizer_copulaGAN.fit(real_data)"
   ],
   "metadata": {
    "collapsed": false,
    "ExecuteTime": {
     "end_time": "2023-12-15T20:03:18.444593858Z",
     "start_time": "2023-12-15T19:51:06.140267186Z"
    }
   },
   "id": "81bde93ed5c52cad"
  },
  {
   "cell_type": "code",
   "execution_count": 77,
   "outputs": [],
   "source": [
    "synthetic_data_copula_gan = synthesizer_copulaGAN.sample(num_rows=500)"
   ],
   "metadata": {
    "collapsed": false,
    "ExecuteTime": {
     "end_time": "2023-12-16T02:49:49.425921304Z",
     "start_time": "2023-12-16T02:49:49.317360082Z"
    }
   },
   "id": "f33a573ac3804de4"
  },
  {
   "cell_type": "code",
   "execution_count": 78,
   "outputs": [],
   "source": [
    "synthetic_data_copula_gan.to_csv(\"dataset/copula-gan_500.csv\", index=False)"
   ],
   "metadata": {
    "collapsed": false,
    "ExecuteTime": {
     "end_time": "2023-12-16T02:49:50.172060570Z",
     "start_time": "2023-12-16T02:49:50.158260699Z"
    }
   },
   "id": "acedcf2461574919"
  },
  {
   "cell_type": "code",
   "execution_count": 63,
   "outputs": [
    {
     "data": {
      "text/plain": "{\n    \"METADATA_SPEC_VERSION\": \"SINGLE_TABLE_V1\",\n    \"columns\": {\n        \"age\": {\n            \"sdtype\": \"numerical\"\n        },\n        \"workclass\": {\n            \"sdtype\": \"categorical\"\n        },\n        \"fnlwgt\": {\n            \"sdtype\": \"numerical\"\n        },\n        \"education\": {\n            \"sdtype\": \"categorical\"\n        },\n        \"education-num\": {\n            \"sdtype\": \"numerical\"\n        },\n        \"marital-status\": {\n            \"sdtype\": \"categorical\"\n        },\n        \"occupation\": {\n            \"sdtype\": \"categorical\"\n        },\n        \"relationship\": {\n            \"sdtype\": \"categorical\"\n        },\n        \"race\": {\n            \"sdtype\": \"categorical\"\n        },\n        \"sex\": {\n            \"sdtype\": \"categorical\"\n        },\n        \"capital-gain\": {\n            \"sdtype\": \"numerical\"\n        },\n        \"capital-loss\": {\n            \"sdtype\": \"numerical\"\n        },\n        \"hours-per-week\": {\n            \"sdtype\": \"numerical\"\n        },\n        \"native-country\": {\n            \"sdtype\": \"categorical\"\n        },\n        \"income\": {\n            \"sdtype\": \"categorical\"\n        }\n    }\n}"
     },
     "execution_count": 63,
     "metadata": {},
     "output_type": "execute_result"
    }
   ],
   "source": [
    "metadata"
   ],
   "metadata": {
    "collapsed": false,
    "ExecuteTime": {
     "end_time": "2023-12-16T01:53:50.912400267Z",
     "start_time": "2023-12-16T01:53:50.859027878Z"
    }
   },
   "id": "bbfa3611ff8ee35"
  },
  {
   "cell_type": "code",
   "execution_count": null,
   "outputs": [],
   "source": [],
   "metadata": {
    "collapsed": false
   },
   "id": "b8bba5189b51e616"
  }
 ],
 "metadata": {
  "kernelspec": {
   "display_name": "Python 3",
   "language": "python",
   "name": "python3"
  },
  "language_info": {
   "codemirror_mode": {
    "name": "ipython",
    "version": 2
   },
   "file_extension": ".py",
   "mimetype": "text/x-python",
   "name": "python",
   "nbconvert_exporter": "python",
   "pygments_lexer": "ipython2",
   "version": "2.7.6"
  }
 },
 "nbformat": 4,
 "nbformat_minor": 5
}
