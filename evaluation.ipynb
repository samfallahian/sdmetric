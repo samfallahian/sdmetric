{
 "cells": [
  {
   "cell_type": "code",
   "execution_count": 1,
   "id": "initial_id",
   "metadata": {
    "collapsed": true,
    "ExecuteTime": {
     "end_time": "2023-12-16T16:46:45.665675400Z",
     "start_time": "2023-12-16T16:46:44.247661500Z"
    }
   },
   "outputs": [
    {
     "name": "stdout",
     "output_type": "stream",
     "text": [
      "0.13.0\n"
     ]
    }
   ],
   "source": [
    "import sdmetrics\n",
    "import json\n",
    "import pandas as pd\n",
    "print(sdmetrics.__version__)"
   ]
  },
  {
   "cell_type": "code",
   "execution_count": 2,
   "outputs": [],
   "source": [
    "with open('dataset/adult.json') as f:\n",
    "    metadata = json.load(f)"
   ],
   "metadata": {
    "collapsed": false,
    "ExecuteTime": {
     "end_time": "2023-12-16T16:46:47.665136800Z",
     "start_time": "2023-12-16T16:46:47.640203100Z"
    }
   },
   "id": "8f773b000c856550"
  },
  {
   "cell_type": "code",
   "execution_count": 3,
   "outputs": [],
   "source": [
    "real_data = pd.read_csv('dataset/adult.csv')"
   ],
   "metadata": {
    "collapsed": false,
    "ExecuteTime": {
     "end_time": "2023-12-16T16:46:48.065580100Z",
     "start_time": "2023-12-16T16:46:48.000240Z"
    }
   },
   "id": "ec5a8a44bf3018eb"
  },
  {
   "cell_type": "code",
   "execution_count": 4,
   "outputs": [
    {
     "data": {
      "text/plain": "(32561, 15)"
     },
     "execution_count": 4,
     "metadata": {},
     "output_type": "execute_result"
    }
   ],
   "source": [
    "real_data.shape"
   ],
   "metadata": {
    "collapsed": false,
    "ExecuteTime": {
     "end_time": "2023-12-16T16:46:48.392288600Z",
     "start_time": "2023-12-16T16:46:48.359376Z"
    }
   },
   "id": "6b8c282f02c7340b"
  },
  {
   "cell_type": "code",
   "execution_count": 4,
   "outputs": [
    {
     "data": {
      "text/plain": "{'METADATA_SPEC_VERSION': 'SINGLE_TABLE_V1',\n 'columns': {'age': {'sdtype': 'numerical'},\n  'workclass': {'sdtype': 'categorical'},\n  'fnlwgt': {'sdtype': 'numerical'},\n  'education': {'sdtype': 'categorical'},\n  'education-num': {'sdtype': 'numerical'},\n  'marital-status': {'sdtype': 'categorical'},\n  'occupation': {'sdtype': 'categorical'},\n  'relationship': {'sdtype': 'categorical'},\n  'race': {'sdtype': 'categorical'},\n  'sex': {'sdtype': 'categorical'},\n  'capital-gain': {'sdtype': 'numerical'},\n  'capital-loss': {'sdtype': 'numerical'},\n  'hours-per-week': {'sdtype': 'numerical'},\n  'native-country': {'sdtype': 'categorical'},\n  'income': {'sdtype': 'categorical'}}}"
     },
     "execution_count": 4,
     "metadata": {},
     "output_type": "execute_result"
    }
   ],
   "source": [
    "metadata"
   ],
   "metadata": {
    "collapsed": false,
    "ExecuteTime": {
     "end_time": "2023-12-16T03:06:08.767416200Z",
     "start_time": "2023-12-16T03:06:08.723532300Z"
    }
   },
   "id": "6e9fb2bb37453c41"
  },
  {
   "cell_type": "code",
   "execution_count": 26,
   "outputs": [],
   "source": [
    "copula =  pd.read_csv('dataset/copula_1000.csv')\n",
    "copula_gan =  pd.read_csv('dataset/copula-gan_1000.csv')\n",
    "ctgan =  pd.read_csv('dataset/ctgan_1000.csv')\n",
    "vae =  pd.read_csv('dataset/vae_100.csv')"
   ],
   "metadata": {
    "collapsed": false,
    "ExecuteTime": {
     "end_time": "2023-12-16T16:54:45.273794800Z",
     "start_time": "2023-12-16T16:54:45.251318Z"
    }
   },
   "id": "9571cc8a1ee991b0"
  },
  {
   "cell_type": "code",
   "execution_count": 27,
   "outputs": [],
   "source": [
    "from sdmetrics.reports.single_table import QualityReport\n",
    "\n",
    "report_copula = QualityReport()\n",
    "report_copula_gan = QualityReport()\n",
    "report_ctgan = QualityReport()\n",
    "report_vae = QualityReport()"
   ],
   "metadata": {
    "collapsed": false,
    "ExecuteTime": {
     "end_time": "2023-12-16T16:54:46.334194400Z",
     "start_time": "2023-12-16T16:54:46.310945Z"
    }
   },
   "id": "7fdde5f5f34035a3"
  },
  {
   "cell_type": "code",
   "execution_count": 28,
   "outputs": [
    {
     "name": "stdout",
     "output_type": "stream",
     "text": [
      "Generating report ...\n",
      "(1/2) Evaluating Column Shapes: : 100%|██████████| 15/15 [00:00<00:00, 194.23it/s]\n",
      "(2/2) Evaluating Column Pair Trends: : 100%|██████████| 105/105 [00:03<00:00, 34.68it/s]\n",
      "\n",
      "Overall Score: 81.91%\n",
      "\n",
      "Properties:\n",
      "- Column Shapes: 89.34%\n",
      "- Column Pair Trends: 74.49%\n"
     ]
    }
   ],
   "source": [
    "# report_copula.generate(real_data, copula, metadata)\n",
    "# report_copula_gan.generate(real_data, copula_gan, metadata)\n",
    "# report_ctgan.generate(real_data, ctgan, metadata)\n",
    "report_vae.generate(real_data, vae, metadata)"
   ],
   "metadata": {
    "collapsed": false,
    "ExecuteTime": {
     "end_time": "2023-12-16T16:54:50.146578300Z",
     "start_time": "2023-12-16T16:54:47.013157Z"
    }
   },
   "id": "4cbccf2c95291f74"
  },
  {
   "cell_type": "code",
   "execution_count": 13,
   "outputs": [
    {
     "name": "stdout",
     "output_type": "stream",
     "text": [
      "coupla:  0.8244654049979703\n",
      "coupla_gan:  0.8726659494987878\n",
      "ctgan:  0.8209730841618488\n",
      "vae:  0.845251245536859\n"
     ]
    }
   ],
   "source": [
    "print(\"copula: \", report_copula.get_score())\n",
    "print(\"copula_gan: \", report_copula_gan.get_score())\n",
    "print(\"ctgan: \", report_ctgan.get_score())\n",
    "print(\"vae: \", report_vae.get_score())\n"
   ],
   "metadata": {
    "collapsed": false,
    "ExecuteTime": {
     "end_time": "2023-12-16T03:08:24.723554500Z",
     "start_time": "2023-12-16T03:08:24.676077500Z"
    }
   },
   "id": "b39b133e77ea8302"
  },
  {
   "cell_type": "code",
   "execution_count": 14,
   "outputs": [
    {
     "data": {
      "text/plain": "            Column        Metric     Score\n0              age  KSComplement  0.972406\n1        workclass  TVComplement  0.977583\n2           fnlwgt  KSComplement  0.929840\n3        education  TVComplement  0.972923\n4    education-num  KSComplement  0.850616\n5   marital-status  TVComplement  0.971429\n6       occupation  TVComplement  0.960879\n7     relationship  TVComplement  0.980990\n8             race  TVComplement  0.980852\n9              sex  TVComplement  0.991205\n10    capital-gain  KSComplement  0.091290\n11    capital-loss  KSComplement  0.525651\n12  hours-per-week  KSComplement  0.778414\n13  native-country  TVComplement  0.973509\n14          income  TVComplement  0.988810",
      "text/html": "<div>\n<style scoped>\n    .dataframe tbody tr th:only-of-type {\n        vertical-align: middle;\n    }\n\n    .dataframe tbody tr th {\n        vertical-align: top;\n    }\n\n    .dataframe thead th {\n        text-align: right;\n    }\n</style>\n<table border=\"1\" class=\"dataframe\">\n  <thead>\n    <tr style=\"text-align: right;\">\n      <th></th>\n      <th>Column</th>\n      <th>Metric</th>\n      <th>Score</th>\n    </tr>\n  </thead>\n  <tbody>\n    <tr>\n      <th>0</th>\n      <td>age</td>\n      <td>KSComplement</td>\n      <td>0.972406</td>\n    </tr>\n    <tr>\n      <th>1</th>\n      <td>workclass</td>\n      <td>TVComplement</td>\n      <td>0.977583</td>\n    </tr>\n    <tr>\n      <th>2</th>\n      <td>fnlwgt</td>\n      <td>KSComplement</td>\n      <td>0.929840</td>\n    </tr>\n    <tr>\n      <th>3</th>\n      <td>education</td>\n      <td>TVComplement</td>\n      <td>0.972923</td>\n    </tr>\n    <tr>\n      <th>4</th>\n      <td>education-num</td>\n      <td>KSComplement</td>\n      <td>0.850616</td>\n    </tr>\n    <tr>\n      <th>5</th>\n      <td>marital-status</td>\n      <td>TVComplement</td>\n      <td>0.971429</td>\n    </tr>\n    <tr>\n      <th>6</th>\n      <td>occupation</td>\n      <td>TVComplement</td>\n      <td>0.960879</td>\n    </tr>\n    <tr>\n      <th>7</th>\n      <td>relationship</td>\n      <td>TVComplement</td>\n      <td>0.980990</td>\n    </tr>\n    <tr>\n      <th>8</th>\n      <td>race</td>\n      <td>TVComplement</td>\n      <td>0.980852</td>\n    </tr>\n    <tr>\n      <th>9</th>\n      <td>sex</td>\n      <td>TVComplement</td>\n      <td>0.991205</td>\n    </tr>\n    <tr>\n      <th>10</th>\n      <td>capital-gain</td>\n      <td>KSComplement</td>\n      <td>0.091290</td>\n    </tr>\n    <tr>\n      <th>11</th>\n      <td>capital-loss</td>\n      <td>KSComplement</td>\n      <td>0.525651</td>\n    </tr>\n    <tr>\n      <th>12</th>\n      <td>hours-per-week</td>\n      <td>KSComplement</td>\n      <td>0.778414</td>\n    </tr>\n    <tr>\n      <th>13</th>\n      <td>native-country</td>\n      <td>TVComplement</td>\n      <td>0.973509</td>\n    </tr>\n    <tr>\n      <th>14</th>\n      <td>income</td>\n      <td>TVComplement</td>\n      <td>0.988810</td>\n    </tr>\n  </tbody>\n</table>\n</div>"
     },
     "execution_count": 14,
     "metadata": {},
     "output_type": "execute_result"
    }
   ],
   "source": [
    "report_copula.get_details(property_name='Column Shapes')"
   ],
   "metadata": {
    "collapsed": false,
    "ExecuteTime": {
     "end_time": "2023-12-16T03:08:34.008620400Z",
     "start_time": "2023-12-16T03:08:33.990153400Z"
    }
   },
   "id": "e31ca0279041f1fd"
  },
  {
   "cell_type": "code",
   "execution_count": 15,
   "outputs": [
    {
     "data": {
      "text/plain": "            Column        Metric     Score\n0              age  KSComplement  0.938438\n1        workclass  TVComplement  0.939683\n2           fnlwgt  KSComplement  0.904757\n3        education  TVComplement  0.907905\n4    education-num  KSComplement  0.938318\n5   marital-status  TVComplement  0.948475\n6       occupation  TVComplement  0.882893\n7     relationship  TVComplement  0.884176\n8             race  TVComplement  0.958726\n9              sex  TVComplement  0.926795\n10    capital-gain  KSComplement  0.936484\n11    capital-loss  KSComplement  0.961428\n12  hours-per-week  KSComplement  0.932542\n13  native-country  TVComplement  0.868050\n14          income  TVComplement  0.974810",
      "text/html": "<div>\n<style scoped>\n    .dataframe tbody tr th:only-of-type {\n        vertical-align: middle;\n    }\n\n    .dataframe tbody tr th {\n        vertical-align: top;\n    }\n\n    .dataframe thead th {\n        text-align: right;\n    }\n</style>\n<table border=\"1\" class=\"dataframe\">\n  <thead>\n    <tr style=\"text-align: right;\">\n      <th></th>\n      <th>Column</th>\n      <th>Metric</th>\n      <th>Score</th>\n    </tr>\n  </thead>\n  <tbody>\n    <tr>\n      <th>0</th>\n      <td>age</td>\n      <td>KSComplement</td>\n      <td>0.938438</td>\n    </tr>\n    <tr>\n      <th>1</th>\n      <td>workclass</td>\n      <td>TVComplement</td>\n      <td>0.939683</td>\n    </tr>\n    <tr>\n      <th>2</th>\n      <td>fnlwgt</td>\n      <td>KSComplement</td>\n      <td>0.904757</td>\n    </tr>\n    <tr>\n      <th>3</th>\n      <td>education</td>\n      <td>TVComplement</td>\n      <td>0.907905</td>\n    </tr>\n    <tr>\n      <th>4</th>\n      <td>education-num</td>\n      <td>KSComplement</td>\n      <td>0.938318</td>\n    </tr>\n    <tr>\n      <th>5</th>\n      <td>marital-status</td>\n      <td>TVComplement</td>\n      <td>0.948475</td>\n    </tr>\n    <tr>\n      <th>6</th>\n      <td>occupation</td>\n      <td>TVComplement</td>\n      <td>0.882893</td>\n    </tr>\n    <tr>\n      <th>7</th>\n      <td>relationship</td>\n      <td>TVComplement</td>\n      <td>0.884176</td>\n    </tr>\n    <tr>\n      <th>8</th>\n      <td>race</td>\n      <td>TVComplement</td>\n      <td>0.958726</td>\n    </tr>\n    <tr>\n      <th>9</th>\n      <td>sex</td>\n      <td>TVComplement</td>\n      <td>0.926795</td>\n    </tr>\n    <tr>\n      <th>10</th>\n      <td>capital-gain</td>\n      <td>KSComplement</td>\n      <td>0.936484</td>\n    </tr>\n    <tr>\n      <th>11</th>\n      <td>capital-loss</td>\n      <td>KSComplement</td>\n      <td>0.961428</td>\n    </tr>\n    <tr>\n      <th>12</th>\n      <td>hours-per-week</td>\n      <td>KSComplement</td>\n      <td>0.932542</td>\n    </tr>\n    <tr>\n      <th>13</th>\n      <td>native-country</td>\n      <td>TVComplement</td>\n      <td>0.868050</td>\n    </tr>\n    <tr>\n      <th>14</th>\n      <td>income</td>\n      <td>TVComplement</td>\n      <td>0.974810</td>\n    </tr>\n  </tbody>\n</table>\n</div>"
     },
     "execution_count": 15,
     "metadata": {},
     "output_type": "execute_result"
    }
   ],
   "source": [
    "report_copula_gan.get_details(property_name='Column Shapes')"
   ],
   "metadata": {
    "collapsed": false,
    "ExecuteTime": {
     "end_time": "2023-12-16T03:08:44.306323Z",
     "start_time": "2023-12-16T03:08:44.286378700Z"
    }
   },
   "id": "7ee692cb64b7aeba"
  },
  {
   "cell_type": "code",
   "execution_count": 16,
   "outputs": [
    {
     "data": {
      "text/plain": "            Column        Metric     Score\n0              age  KSComplement  0.890700\n1        workclass  TVComplement  0.786970\n2           fnlwgt  KSComplement  0.974682\n3        education  TVComplement  0.881432\n4    education-num  KSComplement  0.934318\n5   marital-status  TVComplement  0.929520\n6       occupation  TVComplement  0.813552\n7     relationship  TVComplement  0.884344\n8             race  TVComplement  0.961461\n9              sex  TVComplement  0.916795\n10    capital-gain  KSComplement  0.438290\n11    capital-loss  KSComplement  0.974349\n12  hours-per-week  KSComplement  0.927732\n13  native-country  TVComplement  0.897401\n14          income  TVComplement  0.977190",
      "text/html": "<div>\n<style scoped>\n    .dataframe tbody tr th:only-of-type {\n        vertical-align: middle;\n    }\n\n    .dataframe tbody tr th {\n        vertical-align: top;\n    }\n\n    .dataframe thead th {\n        text-align: right;\n    }\n</style>\n<table border=\"1\" class=\"dataframe\">\n  <thead>\n    <tr style=\"text-align: right;\">\n      <th></th>\n      <th>Column</th>\n      <th>Metric</th>\n      <th>Score</th>\n    </tr>\n  </thead>\n  <tbody>\n    <tr>\n      <th>0</th>\n      <td>age</td>\n      <td>KSComplement</td>\n      <td>0.890700</td>\n    </tr>\n    <tr>\n      <th>1</th>\n      <td>workclass</td>\n      <td>TVComplement</td>\n      <td>0.786970</td>\n    </tr>\n    <tr>\n      <th>2</th>\n      <td>fnlwgt</td>\n      <td>KSComplement</td>\n      <td>0.974682</td>\n    </tr>\n    <tr>\n      <th>3</th>\n      <td>education</td>\n      <td>TVComplement</td>\n      <td>0.881432</td>\n    </tr>\n    <tr>\n      <th>4</th>\n      <td>education-num</td>\n      <td>KSComplement</td>\n      <td>0.934318</td>\n    </tr>\n    <tr>\n      <th>5</th>\n      <td>marital-status</td>\n      <td>TVComplement</td>\n      <td>0.929520</td>\n    </tr>\n    <tr>\n      <th>6</th>\n      <td>occupation</td>\n      <td>TVComplement</td>\n      <td>0.813552</td>\n    </tr>\n    <tr>\n      <th>7</th>\n      <td>relationship</td>\n      <td>TVComplement</td>\n      <td>0.884344</td>\n    </tr>\n    <tr>\n      <th>8</th>\n      <td>race</td>\n      <td>TVComplement</td>\n      <td>0.961461</td>\n    </tr>\n    <tr>\n      <th>9</th>\n      <td>sex</td>\n      <td>TVComplement</td>\n      <td>0.916795</td>\n    </tr>\n    <tr>\n      <th>10</th>\n      <td>capital-gain</td>\n      <td>KSComplement</td>\n      <td>0.438290</td>\n    </tr>\n    <tr>\n      <th>11</th>\n      <td>capital-loss</td>\n      <td>KSComplement</td>\n      <td>0.974349</td>\n    </tr>\n    <tr>\n      <th>12</th>\n      <td>hours-per-week</td>\n      <td>KSComplement</td>\n      <td>0.927732</td>\n    </tr>\n    <tr>\n      <th>13</th>\n      <td>native-country</td>\n      <td>TVComplement</td>\n      <td>0.897401</td>\n    </tr>\n    <tr>\n      <th>14</th>\n      <td>income</td>\n      <td>TVComplement</td>\n      <td>0.977190</td>\n    </tr>\n  </tbody>\n</table>\n</div>"
     },
     "execution_count": 16,
     "metadata": {},
     "output_type": "execute_result"
    }
   ],
   "source": [
    "report_ctgan.get_details(property_name='Column Shapes')"
   ],
   "metadata": {
    "collapsed": false,
    "ExecuteTime": {
     "end_time": "2023-12-16T03:08:46.624463400Z",
     "start_time": "2023-12-16T03:08:46.599529200Z"
    }
   },
   "id": "7bdf3821a6d742e3"
  },
  {
   "cell_type": "code",
   "execution_count": 17,
   "outputs": [
    {
     "data": {
      "text/plain": "            Column        Metric     Score\n0              age  KSComplement  0.900467\n1        workclass  TVComplement  0.892310\n2           fnlwgt  KSComplement  0.554887\n3        education  TVComplement  0.922572\n4    education-num  KSComplement  0.964480\n5   marital-status  TVComplement  0.943543\n6       occupation  TVComplement  0.910173\n7     relationship  TVComplement  0.908216\n8             race  TVComplement  0.961852\n9              sex  TVComplement  0.981205\n10    capital-gain  KSComplement  0.592290\n11    capital-loss  KSComplement  0.985285\n12  hours-per-week  KSComplement  0.959586\n13  native-country  TVComplement  0.930242\n14          income  TVComplement  0.972190",
      "text/html": "<div>\n<style scoped>\n    .dataframe tbody tr th:only-of-type {\n        vertical-align: middle;\n    }\n\n    .dataframe tbody tr th {\n        vertical-align: top;\n    }\n\n    .dataframe thead th {\n        text-align: right;\n    }\n</style>\n<table border=\"1\" class=\"dataframe\">\n  <thead>\n    <tr style=\"text-align: right;\">\n      <th></th>\n      <th>Column</th>\n      <th>Metric</th>\n      <th>Score</th>\n    </tr>\n  </thead>\n  <tbody>\n    <tr>\n      <th>0</th>\n      <td>age</td>\n      <td>KSComplement</td>\n      <td>0.900467</td>\n    </tr>\n    <tr>\n      <th>1</th>\n      <td>workclass</td>\n      <td>TVComplement</td>\n      <td>0.892310</td>\n    </tr>\n    <tr>\n      <th>2</th>\n      <td>fnlwgt</td>\n      <td>KSComplement</td>\n      <td>0.554887</td>\n    </tr>\n    <tr>\n      <th>3</th>\n      <td>education</td>\n      <td>TVComplement</td>\n      <td>0.922572</td>\n    </tr>\n    <tr>\n      <th>4</th>\n      <td>education-num</td>\n      <td>KSComplement</td>\n      <td>0.964480</td>\n    </tr>\n    <tr>\n      <th>5</th>\n      <td>marital-status</td>\n      <td>TVComplement</td>\n      <td>0.943543</td>\n    </tr>\n    <tr>\n      <th>6</th>\n      <td>occupation</td>\n      <td>TVComplement</td>\n      <td>0.910173</td>\n    </tr>\n    <tr>\n      <th>7</th>\n      <td>relationship</td>\n      <td>TVComplement</td>\n      <td>0.908216</td>\n    </tr>\n    <tr>\n      <th>8</th>\n      <td>race</td>\n      <td>TVComplement</td>\n      <td>0.961852</td>\n    </tr>\n    <tr>\n      <th>9</th>\n      <td>sex</td>\n      <td>TVComplement</td>\n      <td>0.981205</td>\n    </tr>\n    <tr>\n      <th>10</th>\n      <td>capital-gain</td>\n      <td>KSComplement</td>\n      <td>0.592290</td>\n    </tr>\n    <tr>\n      <th>11</th>\n      <td>capital-loss</td>\n      <td>KSComplement</td>\n      <td>0.985285</td>\n    </tr>\n    <tr>\n      <th>12</th>\n      <td>hours-per-week</td>\n      <td>KSComplement</td>\n      <td>0.959586</td>\n    </tr>\n    <tr>\n      <th>13</th>\n      <td>native-country</td>\n      <td>TVComplement</td>\n      <td>0.930242</td>\n    </tr>\n    <tr>\n      <th>14</th>\n      <td>income</td>\n      <td>TVComplement</td>\n      <td>0.972190</td>\n    </tr>\n  </tbody>\n</table>\n</div>"
     },
     "execution_count": 17,
     "metadata": {},
     "output_type": "execute_result"
    }
   ],
   "source": [
    "report_vae.get_details(property_name='Column Shapes')"
   ],
   "metadata": {
    "collapsed": false,
    "ExecuteTime": {
     "end_time": "2023-12-16T03:08:50.224269500Z",
     "start_time": "2023-12-16T03:08:50.197353100Z"
    }
   },
   "id": "55004787637243eb"
  },
  {
   "cell_type": "code",
   "execution_count": 18,
   "outputs": [
    {
     "data": {
      "text/html": "<iframe\n    scrolling=\"no\"\n    width=\"100%\"\n    height=\"545px\"\n    src=\"iframe_figures/figure_18.html\"\n    frameborder=\"0\"\n    allowfullscreen\n></iframe>\n"
     },
     "metadata": {},
     "output_type": "display_data"
    }
   ],
   "source": [
    "fig = report_copula.get_visualization(property_name='Column Shapes')\n",
    "fig.show()"
   ],
   "metadata": {
    "collapsed": false,
    "ExecuteTime": {
     "end_time": "2023-12-16T03:08:57.357270200Z",
     "start_time": "2023-12-16T03:08:56.652530900Z"
    }
   },
   "id": "106f3340532a5b25"
  },
  {
   "cell_type": "code",
   "execution_count": 19,
   "outputs": [
    {
     "data": {
      "text/html": "<iframe\n    scrolling=\"no\"\n    width=\"100%\"\n    height=\"545px\"\n    src=\"iframe_figures/figure_19.html\"\n    frameborder=\"0\"\n    allowfullscreen\n></iframe>\n"
     },
     "metadata": {},
     "output_type": "display_data"
    }
   ],
   "source": [
    "fig = report_copula_gan.get_visualization(property_name='Column Shapes')\n",
    "fig.show()"
   ],
   "metadata": {
    "collapsed": false,
    "ExecuteTime": {
     "end_time": "2023-12-16T03:09:01.812849500Z",
     "start_time": "2023-12-16T03:09:01.714613200Z"
    }
   },
   "id": "2a39cb0d787d5e6c"
  },
  {
   "cell_type": "code",
   "execution_count": 20,
   "outputs": [
    {
     "data": {
      "text/html": "<iframe\n    scrolling=\"no\"\n    width=\"100%\"\n    height=\"545px\"\n    src=\"iframe_figures/figure_20.html\"\n    frameborder=\"0\"\n    allowfullscreen\n></iframe>\n"
     },
     "metadata": {},
     "output_type": "display_data"
    }
   ],
   "source": [
    "fig = report_ctgan.get_visualization(property_name='Column Shapes')\n",
    "fig.show()"
   ],
   "metadata": {
    "collapsed": false,
    "ExecuteTime": {
     "end_time": "2023-12-16T03:09:05.322706300Z",
     "start_time": "2023-12-16T03:09:05.217455700Z"
    }
   },
   "id": "3a209254026f6530"
  },
  {
   "cell_type": "code",
   "execution_count": 21,
   "outputs": [
    {
     "data": {
      "text/html": "<iframe\n    scrolling=\"no\"\n    width=\"100%\"\n    height=\"545px\"\n    src=\"iframe_figures/figure_21.html\"\n    frameborder=\"0\"\n    allowfullscreen\n></iframe>\n"
     },
     "metadata": {},
     "output_type": "display_data"
    }
   ],
   "source": [
    "fig = report_vae.get_visualization(property_name='Column Shapes')\n",
    "fig.show()"
   ],
   "metadata": {
    "collapsed": false,
    "ExecuteTime": {
     "end_time": "2023-12-16T03:09:07.899844700Z",
     "start_time": "2023-12-16T03:09:07.801591800Z"
    }
   },
   "id": "46b6bb9ab38da645"
  },
  {
   "cell_type": "code",
   "execution_count": 31,
   "outputs": [
    {
     "data": {
      "text/html": "<iframe\n    scrolling=\"no\"\n    width=\"100%\"\n    height=\"545px\"\n    src=\"iframe_figures/figure_31.html\"\n    frameborder=\"0\"\n    allowfullscreen\n></iframe>\n"
     },
     "metadata": {},
     "output_type": "display_data"
    }
   ],
   "source": [
    "from sdmetrics.visualization import get_column_plot\n",
    "\n",
    "fig = get_column_plot(\n",
    "    real_data=real_data,\n",
    "    synthetic_data=ctgan,\n",
    "    column_name='age',\n",
    "    plot_type='distplot'\n",
    ")\n",
    "fig.show()"
   ],
   "metadata": {
    "collapsed": false,
    "ExecuteTime": {
     "end_time": "2023-12-16T03:39:41.630188200Z",
     "start_time": "2023-12-16T03:39:40.874085900Z"
    }
   },
   "id": "c3037eb3e8f882f"
  },
  {
   "cell_type": "code",
   "execution_count": 30,
   "outputs": [
    {
     "data": {
      "text/html": "<iframe\n    scrolling=\"no\"\n    width=\"920px\"\n    height=\"920\"\n    src=\"iframe_figures/figure_30.html\"\n    frameborder=\"0\"\n    allowfullscreen\n></iframe>\n"
     },
     "metadata": {},
     "output_type": "display_data"
    }
   ],
   "source": [
    "report_copula_gan.get_visualization('Column Pair Trends')"
   ],
   "metadata": {
    "collapsed": false,
    "ExecuteTime": {
     "end_time": "2023-12-16T03:30:33.930849500Z",
     "start_time": "2023-12-16T03:30:33.860637500Z"
    }
   },
   "id": "876fdab3c94f45e8"
  },
  {
   "cell_type": "code",
   "execution_count": 29,
   "outputs": [
    {
     "data": {
      "text/html": "<iframe\n    scrolling=\"no\"\n    width=\"920px\"\n    height=\"920\"\n    src=\"iframe_figures/figure_29.html\"\n    frameborder=\"0\"\n    allowfullscreen\n></iframe>\n"
     },
     "metadata": {},
     "output_type": "display_data"
    }
   ],
   "source": [
    "report_ctgan.get_visualization('Column Pair Trends')"
   ],
   "metadata": {
    "collapsed": false,
    "ExecuteTime": {
     "end_time": "2023-12-16T03:30:22.200179800Z",
     "start_time": "2023-12-16T03:30:21.980223300Z"
    }
   },
   "id": "a56d1d4b7616616b"
  },
  {
   "cell_type": "code",
   "execution_count": 28,
   "outputs": [
    {
     "data": {
      "text/html": "<iframe\n    scrolling=\"no\"\n    width=\"920px\"\n    height=\"920\"\n    src=\"iframe_figures/figure_28.html\"\n    frameborder=\"0\"\n    allowfullscreen\n></iframe>\n"
     },
     "metadata": {},
     "output_type": "display_data"
    }
   ],
   "source": [
    "report_vae.get_visualization('Column Pair Trends')"
   ],
   "metadata": {
    "collapsed": false,
    "ExecuteTime": {
     "end_time": "2023-12-16T03:30:10.985709800Z",
     "start_time": "2023-12-16T03:30:10.707758100Z"
    }
   },
   "id": "2a308db3ac1225e5"
  },
  {
   "cell_type": "code",
   "execution_count": 24,
   "outputs": [
    {
     "data": {
      "text/plain": "1.0"
     },
     "execution_count": 24,
     "metadata": {},
     "output_type": "execute_result"
    }
   ],
   "source": [
    "from sdmetrics.single_column import BoundaryAdherence\n",
    "\n",
    "BoundaryAdherence.compute(\n",
    "    real_data=real_data['capital-gain'],\n",
    "    synthetic_data=vae['capital-gain']\n",
    ")"
   ],
   "metadata": {
    "collapsed": false,
    "ExecuteTime": {
     "end_time": "2023-12-16T16:53:23.603547800Z",
     "start_time": "2023-12-16T16:53:23.578499200Z"
    }
   },
   "id": "10ffe45aaf75868d"
  },
  {
   "cell_type": "code",
   "execution_count": 31,
   "outputs": [
    {
     "data": {
      "text/html": "<iframe\n    scrolling=\"no\"\n    width=\"100%\"\n    height=\"545px\"\n    src=\"iframe_figures/figure_31.html\"\n    frameborder=\"0\"\n    allowfullscreen\n></iframe>\n"
     },
     "metadata": {},
     "output_type": "display_data"
    }
   ],
   "source": [
    "from sdmetrics.visualization import get_column_plot\n",
    "\n",
    "fig = get_column_plot(\n",
    "    real_data=real_data,\n",
    "    synthetic_data=vae,\n",
    "    column_name='education-num',\n",
    "    plot_type='distplot'\n",
    ")\n",
    "fig.show()"
   ],
   "metadata": {
    "collapsed": false,
    "ExecuteTime": {
     "end_time": "2023-12-16T16:55:40.281471300Z",
     "start_time": "2023-12-16T16:55:39.443615400Z"
    }
   },
   "id": "492066e7b1be8931"
  },
  {
   "cell_type": "code",
   "execution_count": null,
   "outputs": [],
   "source": [],
   "metadata": {
    "collapsed": false
   },
   "id": "212820db43e5a9f9"
  }
 ],
 "metadata": {
  "kernelspec": {
   "display_name": "Python 3",
   "language": "python",
   "name": "python3"
  },
  "language_info": {
   "codemirror_mode": {
    "name": "ipython",
    "version": 2
   },
   "file_extension": ".py",
   "mimetype": "text/x-python",
   "name": "python",
   "nbconvert_exporter": "python",
   "pygments_lexer": "ipython2",
   "version": "2.7.6"
  }
 },
 "nbformat": 4,
 "nbformat_minor": 5
}
