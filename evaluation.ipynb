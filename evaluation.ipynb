{
 "cells": [
  {
   "cell_type": "code",
   "execution_count": 1,
   "id": "initial_id",
   "metadata": {
    "collapsed": true,
    "ExecuteTime": {
     "end_time": "2023-12-15T18:51:55.458045593Z",
     "start_time": "2023-12-15T18:51:54.561233581Z"
    }
   },
   "outputs": [
    {
     "name": "stdout",
     "output_type": "stream",
     "text": [
      "0.13.0\n"
     ]
    }
   ],
   "source": [
    "import sdmetrics\n",
    "import json\n",
    "import pandas as pd\n",
    "print(sdmetrics.__version__)"
   ]
  },
  {
   "cell_type": "code",
   "execution_count": 7,
   "outputs": [],
   "source": [
    "with open('dataset/adult.json') as f:\n",
    "    metadata = json.load(f)"
   ],
   "metadata": {
    "collapsed": false,
    "ExecuteTime": {
     "end_time": "2023-12-16T01:54:28.572628721Z",
     "start_time": "2023-12-16T01:54:28.528314956Z"
    }
   },
   "id": "8f773b000c856550"
  },
  {
   "cell_type": "code",
   "execution_count": 8,
   "outputs": [],
   "source": [
    "real_data = pd.read_csv('dataset/adult.csv')"
   ],
   "metadata": {
    "collapsed": false,
    "ExecuteTime": {
     "end_time": "2023-12-16T01:54:30.135529698Z",
     "start_time": "2023-12-16T01:54:30.077865412Z"
    }
   },
   "id": "ec5a8a44bf3018eb"
  },
  {
   "cell_type": "code",
   "execution_count": 12,
   "outputs": [
    {
     "data": {
      "text/plain": "{'METADATA_SPEC_VERSION': 'SINGLE_TABLE_V1',\n 'columns': {'age': {'sdtype': 'numerical'},\n  'workclass': {'sdtype': 'categorical'},\n  'fnlwgt': {'sdtype': 'numerical'},\n  'education': {'sdtype': 'categorical'},\n  'education-num': {'sdtype': 'numerical'},\n  'marital-status': {'sdtype': 'categorical'},\n  'occupation': {'sdtype': 'categorical'},\n  'relationship': {'sdtype': 'categorical'},\n  'race': {'sdtype': 'categorical'},\n  'sex': {'sdtype': 'categorical'},\n  'capital-gain': {'sdtype': 'numerical'},\n  'capital-loss': {'sdtype': 'numerical'},\n  'hours-per-week': {'sdtype': 'numerical'},\n  'native-country': {'sdtype': 'categorical'},\n  'income': {'sdtype': 'categorical'}}}"
     },
     "execution_count": 12,
     "metadata": {},
     "output_type": "execute_result"
    }
   ],
   "source": [
    "metadata"
   ],
   "metadata": {
    "collapsed": false,
    "ExecuteTime": {
     "end_time": "2023-12-16T02:09:44.369830609Z",
     "start_time": "2023-12-16T02:09:44.356017628Z"
    }
   },
   "id": "6e9fb2bb37453c41"
  },
  {
   "cell_type": "code",
   "execution_count": 9,
   "outputs": [],
   "source": [
    "coupla =  pd.read_csv('dataset/coupla.csv')\n",
    "coupla_gan =  pd.read_csv('dataset/coupla-gan.csv')\n",
    "ctgan =  pd.read_csv('dataset/ctgan.csv')\n",
    "vae =  pd.read_csv('dataset/vae.csv')"
   ],
   "metadata": {
    "collapsed": false,
    "ExecuteTime": {
     "end_time": "2023-12-16T02:07:12.024819748Z",
     "start_time": "2023-12-16T02:07:11.978808586Z"
    }
   },
   "id": "9571cc8a1ee991b0"
  },
  {
   "cell_type": "code",
   "execution_count": 20,
   "outputs": [],
   "source": [
    "from sdmetrics.reports.single_table import QualityReport\n",
    "\n",
    "report_coupla = QualityReport()\n",
    "report_coupla_gan = QualityReport()\n",
    "report_ctgan = QualityReport()\n",
    "report_vae = QualityReport()"
   ],
   "metadata": {
    "collapsed": false,
    "ExecuteTime": {
     "end_time": "2023-12-16T02:32:45.032610285Z",
     "start_time": "2023-12-16T02:32:44.988586558Z"
    }
   },
   "id": "7fdde5f5f34035a3"
  },
  {
   "cell_type": "code",
   "execution_count": 21,
   "outputs": [
    {
     "name": "stdout",
     "output_type": "stream",
     "text": [
      "Generating report ...\n",
      "(1/2) Evaluating Column Shapes: : 100%|██████████| 15/15 [00:00<00:00, 143.51it/s]\n",
      "(2/2) Evaluating Column Pair Trends: : 100%|██████████| 105/105 [00:03<00:00, 33.87it/s]\n",
      "\n",
      "Overall Score: 82.84%\n",
      "\n",
      "Properties:\n",
      "- Column Shapes: 87.02%\n",
      "- Column Pair Trends: 78.67%\n",
      "Generating report ...\n",
      "(1/2) Evaluating Column Shapes: : 100%|██████████| 15/15 [00:00<00:00, 169.52it/s]\n",
      "(2/2) Evaluating Column Pair Trends: : 100%|██████████| 105/105 [00:02<00:00, 35.12it/s]\n",
      "\n",
      "Overall Score: 86.05%\n",
      "\n",
      "Properties:\n",
      "- Column Shapes: 92.81%\n",
      "- Column Pair Trends: 79.29%\n",
      "Generating report ...\n",
      "(1/2) Evaluating Column Shapes: : 100%|██████████| 15/15 [00:00<00:00, 192.48it/s]\n",
      "(2/2) Evaluating Column Pair Trends: : 100%|██████████| 105/105 [00:03<00:00, 34.18it/s]\n",
      "\n",
      "Overall Score: 84.93%\n",
      "\n",
      "Properties:\n",
      "- Column Shapes: 88.97%\n",
      "- Column Pair Trends: 80.9%\n",
      "Generating report ...\n",
      "(1/2) Evaluating Column Shapes: : 100%|██████████| 15/15 [00:00<00:00, 201.70it/s]\n",
      "(2/2) Evaluating Column Pair Trends: : 100%|██████████| 105/105 [00:03<00:00, 32.85it/s]\n",
      "\n",
      "Overall Score: 86.96%\n",
      "\n",
      "Properties:\n",
      "- Column Shapes: 89.88%\n",
      "- Column Pair Trends: 84.03%\n"
     ]
    }
   ],
   "source": [
    "report_coupla.generate(real_data, coupla, metadata)\n",
    "report_coupla_gan.generate(real_data, coupla_gan, metadata)\n",
    "report_ctgan.generate(real_data, ctgan, metadata)\n",
    "report_vae.generate(real_data, vae, metadata)"
   ],
   "metadata": {
    "collapsed": false,
    "ExecuteTime": {
     "end_time": "2023-12-16T02:32:58.697071051Z",
     "start_time": "2023-12-16T02:32:45.929932078Z"
    }
   },
   "id": "4cbccf2c95291f74"
  },
  {
   "cell_type": "code",
   "execution_count": 22,
   "outputs": [
    {
     "name": "stdout",
     "output_type": "stream",
     "text": [
      "coupla:  0.828422139979351\n",
      "coupla_gan:  0.8604567502843441\n",
      "ctgan:  0.8493472119112178\n",
      "vae:  0.8695622191972179\n"
     ]
    }
   ],
   "source": [
    "print(\"coupla: \", report_coupla.get_score())\n",
    "print(\"coupla_gan: \", report_coupla_gan.get_score())\n",
    "print(\"ctgan: \", report_ctgan.get_score())\n",
    "print(\"vae: \", report_vae.get_score())\n"
   ],
   "metadata": {
    "collapsed": false,
    "ExecuteTime": {
     "end_time": "2023-12-16T02:32:58.699059475Z",
     "start_time": "2023-12-16T02:32:58.696634606Z"
    }
   },
   "id": "b39b133e77ea8302"
  },
  {
   "cell_type": "code",
   "execution_count": 23,
   "outputs": [
    {
     "data": {
      "text/plain": "            Column        Metric     Score\n0              age  KSComplement  0.972970\n1        workclass  TVComplement  0.990125\n2           fnlwgt  KSComplement  0.957013\n3        education  TVComplement  0.974763\n4    education-num  KSComplement  0.856816\n5   marital-status  TVComplement  0.986543\n6       occupation  TVComplement  0.987472\n7     relationship  TVComplement  0.987554\n8             race  TVComplement  0.995674\n9              sex  TVComplement  0.991605\n10    capital-gain  KSComplement  0.089890\n11    capital-loss  KSComplement  0.528451\n12  hours-per-week  KSComplement  0.758614\n13  native-country  TVComplement  0.988754\n14          income  TVComplement  0.986590",
      "text/html": "<div>\n<style scoped>\n    .dataframe tbody tr th:only-of-type {\n        vertical-align: middle;\n    }\n\n    .dataframe tbody tr th {\n        vertical-align: top;\n    }\n\n    .dataframe thead th {\n        text-align: right;\n    }\n</style>\n<table border=\"1\" class=\"dataframe\">\n  <thead>\n    <tr style=\"text-align: right;\">\n      <th></th>\n      <th>Column</th>\n      <th>Metric</th>\n      <th>Score</th>\n    </tr>\n  </thead>\n  <tbody>\n    <tr>\n      <th>0</th>\n      <td>age</td>\n      <td>KSComplement</td>\n      <td>0.972970</td>\n    </tr>\n    <tr>\n      <th>1</th>\n      <td>workclass</td>\n      <td>TVComplement</td>\n      <td>0.990125</td>\n    </tr>\n    <tr>\n      <th>2</th>\n      <td>fnlwgt</td>\n      <td>KSComplement</td>\n      <td>0.957013</td>\n    </tr>\n    <tr>\n      <th>3</th>\n      <td>education</td>\n      <td>TVComplement</td>\n      <td>0.974763</td>\n    </tr>\n    <tr>\n      <th>4</th>\n      <td>education-num</td>\n      <td>KSComplement</td>\n      <td>0.856816</td>\n    </tr>\n    <tr>\n      <th>5</th>\n      <td>marital-status</td>\n      <td>TVComplement</td>\n      <td>0.986543</td>\n    </tr>\n    <tr>\n      <th>6</th>\n      <td>occupation</td>\n      <td>TVComplement</td>\n      <td>0.987472</td>\n    </tr>\n    <tr>\n      <th>7</th>\n      <td>relationship</td>\n      <td>TVComplement</td>\n      <td>0.987554</td>\n    </tr>\n    <tr>\n      <th>8</th>\n      <td>race</td>\n      <td>TVComplement</td>\n      <td>0.995674</td>\n    </tr>\n    <tr>\n      <th>9</th>\n      <td>sex</td>\n      <td>TVComplement</td>\n      <td>0.991605</td>\n    </tr>\n    <tr>\n      <th>10</th>\n      <td>capital-gain</td>\n      <td>KSComplement</td>\n      <td>0.089890</td>\n    </tr>\n    <tr>\n      <th>11</th>\n      <td>capital-loss</td>\n      <td>KSComplement</td>\n      <td>0.528451</td>\n    </tr>\n    <tr>\n      <th>12</th>\n      <td>hours-per-week</td>\n      <td>KSComplement</td>\n      <td>0.758614</td>\n    </tr>\n    <tr>\n      <th>13</th>\n      <td>native-country</td>\n      <td>TVComplement</td>\n      <td>0.988754</td>\n    </tr>\n    <tr>\n      <th>14</th>\n      <td>income</td>\n      <td>TVComplement</td>\n      <td>0.986590</td>\n    </tr>\n  </tbody>\n</table>\n</div>"
     },
     "execution_count": 23,
     "metadata": {},
     "output_type": "execute_result"
    }
   ],
   "source": [
    "report_coupla.get_details(property_name='Column Shapes')"
   ],
   "metadata": {
    "collapsed": false,
    "ExecuteTime": {
     "end_time": "2023-12-16T02:33:08.145406709Z",
     "start_time": "2023-12-16T02:33:08.128893222Z"
    }
   },
   "id": "e31ca0279041f1fd"
  },
  {
   "cell_type": "code",
   "execution_count": 24,
   "outputs": [
    {
     "data": {
      "text/plain": "            Column        Metric     Score\n0              age  KSComplement  0.949641\n1        workclass  TVComplement  0.955408\n2           fnlwgt  KSComplement  0.907654\n3        education  TVComplement  0.909577\n4    education-num  KSComplement  0.933718\n5   marital-status  TVComplement  0.944771\n6       occupation  TVComplement  0.876042\n7     relationship  TVComplement  0.880144\n8             race  TVComplement  0.954383\n9              sex  TVComplement  0.927195\n10    capital-gain  KSComplement  0.939684\n11    capital-loss  KSComplement  0.965388\n12  hours-per-week  KSComplement  0.928986\n13  native-country  TVComplement  0.873605\n14          income  TVComplement  0.974610",
      "text/html": "<div>\n<style scoped>\n    .dataframe tbody tr th:only-of-type {\n        vertical-align: middle;\n    }\n\n    .dataframe tbody tr th {\n        vertical-align: top;\n    }\n\n    .dataframe thead th {\n        text-align: right;\n    }\n</style>\n<table border=\"1\" class=\"dataframe\">\n  <thead>\n    <tr style=\"text-align: right;\">\n      <th></th>\n      <th>Column</th>\n      <th>Metric</th>\n      <th>Score</th>\n    </tr>\n  </thead>\n  <tbody>\n    <tr>\n      <th>0</th>\n      <td>age</td>\n      <td>KSComplement</td>\n      <td>0.949641</td>\n    </tr>\n    <tr>\n      <th>1</th>\n      <td>workclass</td>\n      <td>TVComplement</td>\n      <td>0.955408</td>\n    </tr>\n    <tr>\n      <th>2</th>\n      <td>fnlwgt</td>\n      <td>KSComplement</td>\n      <td>0.907654</td>\n    </tr>\n    <tr>\n      <th>3</th>\n      <td>education</td>\n      <td>TVComplement</td>\n      <td>0.909577</td>\n    </tr>\n    <tr>\n      <th>4</th>\n      <td>education-num</td>\n      <td>KSComplement</td>\n      <td>0.933718</td>\n    </tr>\n    <tr>\n      <th>5</th>\n      <td>marital-status</td>\n      <td>TVComplement</td>\n      <td>0.944771</td>\n    </tr>\n    <tr>\n      <th>6</th>\n      <td>occupation</td>\n      <td>TVComplement</td>\n      <td>0.876042</td>\n    </tr>\n    <tr>\n      <th>7</th>\n      <td>relationship</td>\n      <td>TVComplement</td>\n      <td>0.880144</td>\n    </tr>\n    <tr>\n      <th>8</th>\n      <td>race</td>\n      <td>TVComplement</td>\n      <td>0.954383</td>\n    </tr>\n    <tr>\n      <th>9</th>\n      <td>sex</td>\n      <td>TVComplement</td>\n      <td>0.927195</td>\n    </tr>\n    <tr>\n      <th>10</th>\n      <td>capital-gain</td>\n      <td>KSComplement</td>\n      <td>0.939684</td>\n    </tr>\n    <tr>\n      <th>11</th>\n      <td>capital-loss</td>\n      <td>KSComplement</td>\n      <td>0.965388</td>\n    </tr>\n    <tr>\n      <th>12</th>\n      <td>hours-per-week</td>\n      <td>KSComplement</td>\n      <td>0.928986</td>\n    </tr>\n    <tr>\n      <th>13</th>\n      <td>native-country</td>\n      <td>TVComplement</td>\n      <td>0.873605</td>\n    </tr>\n    <tr>\n      <th>14</th>\n      <td>income</td>\n      <td>TVComplement</td>\n      <td>0.974610</td>\n    </tr>\n  </tbody>\n</table>\n</div>"
     },
     "execution_count": 24,
     "metadata": {},
     "output_type": "execute_result"
    }
   ],
   "source": [
    "report_coupla_gan.get_details(property_name='Column Shapes')"
   ],
   "metadata": {
    "collapsed": false,
    "ExecuteTime": {
     "end_time": "2023-12-16T02:33:10.878241937Z",
     "start_time": "2023-12-16T02:33:10.863969536Z"
    }
   },
   "id": "7ee692cb64b7aeba"
  },
  {
   "cell_type": "code",
   "execution_count": 25,
   "outputs": [
    {
     "data": {
      "text/plain": "            Column        Metric     Score\n0              age  KSComplement  0.912700\n1        workclass  TVComplement  0.797970\n2           fnlwgt  KSComplement  0.967778\n3        education  TVComplement  0.917861\n4    education-num  KSComplement  0.946918\n5   marital-status  TVComplement  0.920520\n6       occupation  TVComplement  0.838052\n7     relationship  TVComplement  0.887944\n8             race  TVComplement  0.963783\n9              sex  TVComplement  0.924395\n10    capital-gain  KSComplement  0.468090\n11    capital-loss  KSComplement  0.977885\n12  hours-per-week  KSComplement  0.935932\n13  native-country  TVComplement  0.903748\n14          income  TVComplement  0.981190",
      "text/html": "<div>\n<style scoped>\n    .dataframe tbody tr th:only-of-type {\n        vertical-align: middle;\n    }\n\n    .dataframe tbody tr th {\n        vertical-align: top;\n    }\n\n    .dataframe thead th {\n        text-align: right;\n    }\n</style>\n<table border=\"1\" class=\"dataframe\">\n  <thead>\n    <tr style=\"text-align: right;\">\n      <th></th>\n      <th>Column</th>\n      <th>Metric</th>\n      <th>Score</th>\n    </tr>\n  </thead>\n  <tbody>\n    <tr>\n      <th>0</th>\n      <td>age</td>\n      <td>KSComplement</td>\n      <td>0.912700</td>\n    </tr>\n    <tr>\n      <th>1</th>\n      <td>workclass</td>\n      <td>TVComplement</td>\n      <td>0.797970</td>\n    </tr>\n    <tr>\n      <th>2</th>\n      <td>fnlwgt</td>\n      <td>KSComplement</td>\n      <td>0.967778</td>\n    </tr>\n    <tr>\n      <th>3</th>\n      <td>education</td>\n      <td>TVComplement</td>\n      <td>0.917861</td>\n    </tr>\n    <tr>\n      <th>4</th>\n      <td>education-num</td>\n      <td>KSComplement</td>\n      <td>0.946918</td>\n    </tr>\n    <tr>\n      <th>5</th>\n      <td>marital-status</td>\n      <td>TVComplement</td>\n      <td>0.920520</td>\n    </tr>\n    <tr>\n      <th>6</th>\n      <td>occupation</td>\n      <td>TVComplement</td>\n      <td>0.838052</td>\n    </tr>\n    <tr>\n      <th>7</th>\n      <td>relationship</td>\n      <td>TVComplement</td>\n      <td>0.887944</td>\n    </tr>\n    <tr>\n      <th>8</th>\n      <td>race</td>\n      <td>TVComplement</td>\n      <td>0.963783</td>\n    </tr>\n    <tr>\n      <th>9</th>\n      <td>sex</td>\n      <td>TVComplement</td>\n      <td>0.924395</td>\n    </tr>\n    <tr>\n      <th>10</th>\n      <td>capital-gain</td>\n      <td>KSComplement</td>\n      <td>0.468090</td>\n    </tr>\n    <tr>\n      <th>11</th>\n      <td>capital-loss</td>\n      <td>KSComplement</td>\n      <td>0.977885</td>\n    </tr>\n    <tr>\n      <th>12</th>\n      <td>hours-per-week</td>\n      <td>KSComplement</td>\n      <td>0.935932</td>\n    </tr>\n    <tr>\n      <th>13</th>\n      <td>native-country</td>\n      <td>TVComplement</td>\n      <td>0.903748</td>\n    </tr>\n    <tr>\n      <th>14</th>\n      <td>income</td>\n      <td>TVComplement</td>\n      <td>0.981190</td>\n    </tr>\n  </tbody>\n</table>\n</div>"
     },
     "execution_count": 25,
     "metadata": {},
     "output_type": "execute_result"
    }
   ],
   "source": [
    "report_ctgan.get_details(property_name='Column Shapes')"
   ],
   "metadata": {
    "collapsed": false,
    "ExecuteTime": {
     "end_time": "2023-12-16T02:33:13.545434021Z",
     "start_time": "2023-12-16T02:33:13.536853911Z"
    }
   },
   "id": "7bdf3821a6d742e3"
  },
  {
   "cell_type": "code",
   "execution_count": 26,
   "outputs": [
    {
     "data": {
      "text/plain": "            Column        Metric     Score\n0              age  KSComplement  0.917570\n1        workclass  TVComplement  0.887310\n2           fnlwgt  KSComplement  0.581082\n3        education  TVComplement  0.909856\n4    education-num  KSComplement  0.970718\n5   marital-status  TVComplement  0.953588\n6       occupation  TVComplement  0.909835\n7     relationship  TVComplement  0.940593\n8             race  TVComplement  0.965252\n9              sex  TVComplement  0.979805\n10    capital-gain  KSComplement  0.598490\n11    capital-loss  KSComplement  0.986482\n12  hours-per-week  KSComplement  0.960786\n13  native-country  TVComplement  0.929357\n14          income  TVComplement  0.991190",
      "text/html": "<div>\n<style scoped>\n    .dataframe tbody tr th:only-of-type {\n        vertical-align: middle;\n    }\n\n    .dataframe tbody tr th {\n        vertical-align: top;\n    }\n\n    .dataframe thead th {\n        text-align: right;\n    }\n</style>\n<table border=\"1\" class=\"dataframe\">\n  <thead>\n    <tr style=\"text-align: right;\">\n      <th></th>\n      <th>Column</th>\n      <th>Metric</th>\n      <th>Score</th>\n    </tr>\n  </thead>\n  <tbody>\n    <tr>\n      <th>0</th>\n      <td>age</td>\n      <td>KSComplement</td>\n      <td>0.917570</td>\n    </tr>\n    <tr>\n      <th>1</th>\n      <td>workclass</td>\n      <td>TVComplement</td>\n      <td>0.887310</td>\n    </tr>\n    <tr>\n      <th>2</th>\n      <td>fnlwgt</td>\n      <td>KSComplement</td>\n      <td>0.581082</td>\n    </tr>\n    <tr>\n      <th>3</th>\n      <td>education</td>\n      <td>TVComplement</td>\n      <td>0.909856</td>\n    </tr>\n    <tr>\n      <th>4</th>\n      <td>education-num</td>\n      <td>KSComplement</td>\n      <td>0.970718</td>\n    </tr>\n    <tr>\n      <th>5</th>\n      <td>marital-status</td>\n      <td>TVComplement</td>\n      <td>0.953588</td>\n    </tr>\n    <tr>\n      <th>6</th>\n      <td>occupation</td>\n      <td>TVComplement</td>\n      <td>0.909835</td>\n    </tr>\n    <tr>\n      <th>7</th>\n      <td>relationship</td>\n      <td>TVComplement</td>\n      <td>0.940593</td>\n    </tr>\n    <tr>\n      <th>8</th>\n      <td>race</td>\n      <td>TVComplement</td>\n      <td>0.965252</td>\n    </tr>\n    <tr>\n      <th>9</th>\n      <td>sex</td>\n      <td>TVComplement</td>\n      <td>0.979805</td>\n    </tr>\n    <tr>\n      <th>10</th>\n      <td>capital-gain</td>\n      <td>KSComplement</td>\n      <td>0.598490</td>\n    </tr>\n    <tr>\n      <th>11</th>\n      <td>capital-loss</td>\n      <td>KSComplement</td>\n      <td>0.986482</td>\n    </tr>\n    <tr>\n      <th>12</th>\n      <td>hours-per-week</td>\n      <td>KSComplement</td>\n      <td>0.960786</td>\n    </tr>\n    <tr>\n      <th>13</th>\n      <td>native-country</td>\n      <td>TVComplement</td>\n      <td>0.929357</td>\n    </tr>\n    <tr>\n      <th>14</th>\n      <td>income</td>\n      <td>TVComplement</td>\n      <td>0.991190</td>\n    </tr>\n  </tbody>\n</table>\n</div>"
     },
     "execution_count": 26,
     "metadata": {},
     "output_type": "execute_result"
    }
   ],
   "source": [
    "report_vae.get_details(property_name='Column Shapes')"
   ],
   "metadata": {
    "collapsed": false,
    "ExecuteTime": {
     "end_time": "2023-12-16T02:33:20.923919971Z",
     "start_time": "2023-12-16T02:33:20.912021020Z"
    }
   },
   "id": "55004787637243eb"
  },
  {
   "cell_type": "code",
   "execution_count": 27,
   "outputs": [
    {
     "data": {
      "text/html": "<iframe\n    scrolling=\"no\"\n    width=\"100%\"\n    height=\"545px\"\n    src=\"iframe_figures/figure_27.html\"\n    frameborder=\"0\"\n    allowfullscreen\n></iframe>\n"
     },
     "metadata": {},
     "output_type": "display_data"
    }
   ],
   "source": [
    "fig = report_coupla.get_visualization(property_name='Column Shapes')\n",
    "fig.show()"
   ],
   "metadata": {
    "collapsed": false,
    "ExecuteTime": {
     "end_time": "2023-12-16T02:35:24.826161289Z",
     "start_time": "2023-12-16T02:35:24.394200129Z"
    }
   },
   "id": "106f3340532a5b25"
  },
  {
   "cell_type": "code",
   "execution_count": 28,
   "outputs": [
    {
     "data": {
      "text/html": "<iframe\n    scrolling=\"no\"\n    width=\"100%\"\n    height=\"545px\"\n    src=\"iframe_figures/figure_28.html\"\n    frameborder=\"0\"\n    allowfullscreen\n></iframe>\n"
     },
     "metadata": {},
     "output_type": "display_data"
    }
   ],
   "source": [
    "fig = report_coupla_gan.get_visualization(property_name='Column Shapes')\n",
    "fig.show()"
   ],
   "metadata": {
    "collapsed": false,
    "ExecuteTime": {
     "end_time": "2023-12-16T02:35:34.740185365Z",
     "start_time": "2023-12-16T02:35:34.685062666Z"
    }
   },
   "id": "2a39cb0d787d5e6c"
  },
  {
   "cell_type": "code",
   "execution_count": 29,
   "outputs": [
    {
     "data": {
      "text/html": "<iframe\n    scrolling=\"no\"\n    width=\"100%\"\n    height=\"545px\"\n    src=\"iframe_figures/figure_29.html\"\n    frameborder=\"0\"\n    allowfullscreen\n></iframe>\n"
     },
     "metadata": {},
     "output_type": "display_data"
    }
   ],
   "source": [
    "fig = report_ctgan.get_visualization(property_name='Column Shapes')\n",
    "fig.show()"
   ],
   "metadata": {
    "collapsed": false,
    "ExecuteTime": {
     "end_time": "2023-12-16T02:35:37.792201745Z",
     "start_time": "2023-12-16T02:35:37.729704630Z"
    }
   },
   "id": "3a209254026f6530"
  },
  {
   "cell_type": "code",
   "execution_count": 30,
   "outputs": [
    {
     "data": {
      "text/html": "<iframe\n    scrolling=\"no\"\n    width=\"100%\"\n    height=\"545px\"\n    src=\"iframe_figures/figure_30.html\"\n    frameborder=\"0\"\n    allowfullscreen\n></iframe>\n"
     },
     "metadata": {},
     "output_type": "display_data"
    }
   ],
   "source": [
    "fig = report_vae.get_visualization(property_name='Column Shapes')\n",
    "fig.show()"
   ],
   "metadata": {
    "collapsed": false,
    "ExecuteTime": {
     "end_time": "2023-12-16T02:35:40.143304756Z",
     "start_time": "2023-12-16T02:35:40.040314142Z"
    }
   },
   "id": "46b6bb9ab38da645"
  },
  {
   "cell_type": "code",
   "execution_count": 32,
   "outputs": [],
   "source": [
    "from sdmetrics.single_column import BoundaryAdherence"
   ],
   "metadata": {
    "collapsed": false,
    "ExecuteTime": {
     "end_time": "2023-12-16T02:43:07.281004573Z",
     "start_time": "2023-12-16T02:43:07.233043791Z"
    }
   },
   "id": "614ae2ca1e8b442a"
  },
  {
   "cell_type": "code",
   "execution_count": 38,
   "outputs": [
    {
     "data": {
      "text/plain": "1.0"
     },
     "execution_count": 38,
     "metadata": {},
     "output_type": "execute_result"
    }
   ],
   "source": [
    "BoundaryAdherence.compute(\n",
    "    real_data=real_data['age'],\n",
    "    synthetic_data=ctgan['age']\n",
    ")\n",
    "\n"
   ],
   "metadata": {
    "collapsed": false,
    "ExecuteTime": {
     "end_time": "2023-12-16T02:46:22.282059079Z",
     "start_time": "2023-12-16T02:46:22.233933598Z"
    }
   },
   "id": "f5688fa5c19c10b1"
  },
  {
   "cell_type": "code",
   "execution_count": 39,
   "outputs": [
    {
     "data": {
      "text/html": "<iframe\n    scrolling=\"no\"\n    width=\"100%\"\n    height=\"545px\"\n    src=\"iframe_figures/figure_39.html\"\n    frameborder=\"0\"\n    allowfullscreen\n></iframe>\n"
     },
     "metadata": {},
     "output_type": "display_data"
    }
   ],
   "source": [
    "from sdmetrics.visualization import get_column_plot\n",
    "\n",
    "fig = get_column_plot(\n",
    "    real_data=real_data,\n",
    "    synthetic_data=vae,\n",
    "    column_name='age',\n",
    "    plot_type='distplot'\n",
    ")\n",
    "\n",
    "fig.show()"
   ],
   "metadata": {
    "collapsed": false,
    "ExecuteTime": {
     "end_time": "2023-12-16T02:46:43.424865289Z",
     "start_time": "2023-12-16T02:46:43.099478059Z"
    }
   },
   "id": "c3037eb3e8f882f"
  },
  {
   "cell_type": "code",
   "execution_count": null,
   "outputs": [],
   "source": [],
   "metadata": {
    "collapsed": false
   },
   "id": "a8d8e70c62e588ce"
  }
 ],
 "metadata": {
  "kernelspec": {
   "display_name": "Python 3",
   "language": "python",
   "name": "python3"
  },
  "language_info": {
   "codemirror_mode": {
    "name": "ipython",
    "version": 2
   },
   "file_extension": ".py",
   "mimetype": "text/x-python",
   "name": "python",
   "nbconvert_exporter": "python",
   "pygments_lexer": "ipython2",
   "version": "2.7.6"
  }
 },
 "nbformat": 4,
 "nbformat_minor": 5
}
